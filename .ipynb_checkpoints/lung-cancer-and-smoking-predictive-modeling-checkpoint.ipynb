{
 "cells": [
  {
   "cell_type": "markdown",
   "id": "15af68c8",
   "metadata": {
    "papermill": {
     "duration": 0.026791,
     "end_time": "2022-09-01T19:03:43.802125",
     "exception": false,
     "start_time": "2022-09-01T19:03:43.775334",
     "status": "completed"
    },
    "tags": []
   },
   "source": [
    "# XGBoost model of lung cancer risk factors and diagnosis\n",
    "\n",
    "In this notebook, I'll be examining the relationship and creating a predictive model targetting lung cancer diagnosis. \n",
    "We'll do this by modeling features that are/may be associated with the disease. "
   ]
  },
  {
   "cell_type": "code",
   "execution_count": 40,
   "id": "c9b70af0",
   "metadata": {
    "_cell_guid": "b1076dfc-b9ad-4769-8c92-a6c4dae69d19",
    "_uuid": "8f2839f25d086af736a60e9eeb907d3b93b6e0e5",
    "execution": {
     "iopub.execute_input": "2022-09-01T19:03:43.857262Z",
     "iopub.status.busy": "2022-09-01T19:03:43.856035Z",
     "iopub.status.idle": "2022-09-01T19:03:45.290942Z",
     "shell.execute_reply": "2022-09-01T19:03:45.289579Z",
     "shell.execute_reply.started": "2022-09-01T18:49:50.856630Z"
    },
    "papermill": {
     "duration": 1.463225,
     "end_time": "2022-09-01T19:03:45.291144",
     "exception": false,
     "start_time": "2022-09-01T19:03:43.827919",
     "status": "completed"
    },
    "tags": []
   },
   "outputs": [],
   "source": [
    "import numpy as np # linear algebra\n",
    "import pandas as pd # data processing, CSV file I/O (e.g. pd.read_csv)\n",
    "import os\n",
    "# for dirname, _, filenames in os.walk('/kaggle/input'):\n",
    "#     for filename in filenames:\n",
    "#         print(os.path.join(dirname, filename))\n",
    "from xgboost import XGBRegressor\n",
    "from sklearn.model_selection import train_test_split"
   ]
  },
  {
   "cell_type": "markdown",
   "id": "28c73848",
   "metadata": {
    "papermill": {
     "duration": 0.025161,
     "end_time": "2022-09-01T19:03:45.345120",
     "exception": false,
     "start_time": "2022-09-01T19:03:45.319959",
     "status": "completed"
    },
    "tags": []
   },
   "source": [
    "# Read data file"
   ]
  },
  {
   "cell_type": "code",
   "execution_count": 41,
   "id": "65cc2937",
   "metadata": {
    "execution": {
     "iopub.execute_input": "2022-09-01T19:03:45.402696Z",
     "iopub.status.busy": "2022-09-01T19:03:45.401970Z",
     "iopub.status.idle": "2022-09-01T19:03:45.435505Z",
     "shell.execute_reply": "2022-09-01T19:03:45.436072Z",
     "shell.execute_reply.started": "2022-09-01T18:49:51.261436Z"
    },
    "papermill": {
     "duration": 0.065231,
     "end_time": "2022-09-01T19:03:45.436271",
     "exception": false,
     "start_time": "2022-09-01T19:03:45.371040",
     "status": "completed"
    },
    "tags": []
   },
   "outputs": [
    {
     "data": {
      "text/html": [
       "<div>\n",
       "<style scoped>\n",
       "    .dataframe tbody tr th:only-of-type {\n",
       "        vertical-align: middle;\n",
       "    }\n",
       "\n",
       "    .dataframe tbody tr th {\n",
       "        vertical-align: top;\n",
       "    }\n",
       "\n",
       "    .dataframe thead th {\n",
       "        text-align: right;\n",
       "    }\n",
       "</style>\n",
       "<table border=\"1\" class=\"dataframe\">\n",
       "  <thead>\n",
       "    <tr style=\"text-align: right;\">\n",
       "      <th></th>\n",
       "      <th>GENDER</th>\n",
       "      <th>AGE</th>\n",
       "      <th>SMOKING</th>\n",
       "      <th>YELLOW_FINGERS</th>\n",
       "      <th>ANXIETY</th>\n",
       "      <th>PEER_PRESSURE</th>\n",
       "      <th>CHRONIC DISEASE</th>\n",
       "      <th>FATIGUE</th>\n",
       "      <th>ALLERGY</th>\n",
       "      <th>WHEEZING</th>\n",
       "      <th>ALCOHOL CONSUMING</th>\n",
       "      <th>COUGHING</th>\n",
       "      <th>SHORTNESS OF BREATH</th>\n",
       "      <th>SWALLOWING DIFFICULTY</th>\n",
       "      <th>CHEST PAIN</th>\n",
       "      <th>LUNG_CANCER</th>\n",
       "    </tr>\n",
       "  </thead>\n",
       "  <tbody>\n",
       "    <tr>\n",
       "      <th>0</th>\n",
       "      <td>M</td>\n",
       "      <td>69</td>\n",
       "      <td>1</td>\n",
       "      <td>2</td>\n",
       "      <td>2</td>\n",
       "      <td>1</td>\n",
       "      <td>1</td>\n",
       "      <td>2</td>\n",
       "      <td>1</td>\n",
       "      <td>2</td>\n",
       "      <td>2</td>\n",
       "      <td>2</td>\n",
       "      <td>2</td>\n",
       "      <td>2</td>\n",
       "      <td>2</td>\n",
       "      <td>YES</td>\n",
       "    </tr>\n",
       "    <tr>\n",
       "      <th>1</th>\n",
       "      <td>M</td>\n",
       "      <td>74</td>\n",
       "      <td>2</td>\n",
       "      <td>1</td>\n",
       "      <td>1</td>\n",
       "      <td>1</td>\n",
       "      <td>2</td>\n",
       "      <td>2</td>\n",
       "      <td>2</td>\n",
       "      <td>1</td>\n",
       "      <td>1</td>\n",
       "      <td>1</td>\n",
       "      <td>2</td>\n",
       "      <td>2</td>\n",
       "      <td>2</td>\n",
       "      <td>YES</td>\n",
       "    </tr>\n",
       "    <tr>\n",
       "      <th>2</th>\n",
       "      <td>F</td>\n",
       "      <td>59</td>\n",
       "      <td>1</td>\n",
       "      <td>1</td>\n",
       "      <td>1</td>\n",
       "      <td>2</td>\n",
       "      <td>1</td>\n",
       "      <td>2</td>\n",
       "      <td>1</td>\n",
       "      <td>2</td>\n",
       "      <td>1</td>\n",
       "      <td>2</td>\n",
       "      <td>2</td>\n",
       "      <td>1</td>\n",
       "      <td>2</td>\n",
       "      <td>NO</td>\n",
       "    </tr>\n",
       "    <tr>\n",
       "      <th>3</th>\n",
       "      <td>M</td>\n",
       "      <td>63</td>\n",
       "      <td>2</td>\n",
       "      <td>2</td>\n",
       "      <td>2</td>\n",
       "      <td>1</td>\n",
       "      <td>1</td>\n",
       "      <td>1</td>\n",
       "      <td>1</td>\n",
       "      <td>1</td>\n",
       "      <td>2</td>\n",
       "      <td>1</td>\n",
       "      <td>1</td>\n",
       "      <td>2</td>\n",
       "      <td>2</td>\n",
       "      <td>NO</td>\n",
       "    </tr>\n",
       "    <tr>\n",
       "      <th>4</th>\n",
       "      <td>F</td>\n",
       "      <td>63</td>\n",
       "      <td>1</td>\n",
       "      <td>2</td>\n",
       "      <td>1</td>\n",
       "      <td>1</td>\n",
       "      <td>1</td>\n",
       "      <td>1</td>\n",
       "      <td>1</td>\n",
       "      <td>2</td>\n",
       "      <td>1</td>\n",
       "      <td>2</td>\n",
       "      <td>2</td>\n",
       "      <td>1</td>\n",
       "      <td>1</td>\n",
       "      <td>NO</td>\n",
       "    </tr>\n",
       "  </tbody>\n",
       "</table>\n",
       "</div>"
      ],
      "text/plain": [
       "  GENDER  AGE  SMOKING  YELLOW_FINGERS  ANXIETY  PEER_PRESSURE  \\\n",
       "0      M   69        1               2        2              1   \n",
       "1      M   74        2               1        1              1   \n",
       "2      F   59        1               1        1              2   \n",
       "3      M   63        2               2        2              1   \n",
       "4      F   63        1               2        1              1   \n",
       "\n",
       "   CHRONIC DISEASE  FATIGUE   ALLERGY   WHEEZING  ALCOHOL CONSUMING  COUGHING  \\\n",
       "0                1         2         1         2                  2         2   \n",
       "1                2         2         2         1                  1         1   \n",
       "2                1         2         1         2                  1         2   \n",
       "3                1         1         1         1                  2         1   \n",
       "4                1         1         1         2                  1         2   \n",
       "\n",
       "   SHORTNESS OF BREATH  SWALLOWING DIFFICULTY  CHEST PAIN LUNG_CANCER  \n",
       "0                    2                      2           2         YES  \n",
       "1                    2                      2           2         YES  \n",
       "2                    2                      1           2          NO  \n",
       "3                    1                      2           2          NO  \n",
       "4                    2                      1           1          NO  "
      ]
     },
     "execution_count": 41,
     "metadata": {},
     "output_type": "execute_result"
    }
   ],
   "source": [
    "data = pd.read_csv('survey lung cancer.csv')\n",
    "data.head()"
   ]
  },
  {
   "cell_type": "markdown",
   "id": "d122a638",
   "metadata": {
    "papermill": {
     "duration": 0.02541,
     "end_time": "2022-09-01T19:03:45.488724",
     "exception": false,
     "start_time": "2022-09-01T19:03:45.463314",
     "status": "completed"
    },
    "tags": []
   },
   "source": [
    " # Define features and target"
   ]
  },
  {
   "cell_type": "code",
   "execution_count": 42,
   "id": "b9cc8558",
   "metadata": {
    "execution": {
     "iopub.execute_input": "2022-09-01T19:03:45.556746Z",
     "iopub.status.busy": "2022-09-01T19:03:45.544747Z",
     "iopub.status.idle": "2022-09-01T19:03:45.558772Z",
     "shell.execute_reply": "2022-09-01T19:03:45.559377Z",
     "shell.execute_reply.started": "2022-09-01T18:49:51.281974Z"
    },
    "papermill": {
     "duration": 0.044696,
     "end_time": "2022-09-01T19:03:45.559555",
     "exception": false,
     "start_time": "2022-09-01T19:03:45.514859",
     "status": "completed"
    },
    "tags": []
   },
   "outputs": [],
   "source": [
    "features = ['GENDER', 'AGE', 'SMOKING', 'YELLOW_FINGERS', 'ANXIETY',\n",
    "       'PEER_PRESSURE', 'CHRONIC DISEASE', 'FATIGUE ', 'ALLERGY ', 'WHEEZING',\n",
    "       'ALCOHOL CONSUMING', 'COUGHING', 'SHORTNESS OF BREATH',\n",
    "       'SWALLOWING DIFFICULTY', 'CHEST PAIN']\n",
    "X = data[features]\n",
    "y = data['LUNG_CANCER']\n"
   ]
  },
  {
   "cell_type": "code",
   "execution_count": 43,
   "id": "f67ed2f8",
   "metadata": {
    "execution": {
     "iopub.execute_input": "2022-09-01T19:03:45.616023Z",
     "iopub.status.busy": "2022-09-01T19:03:45.615042Z",
     "iopub.status.idle": "2022-09-01T19:03:45.621638Z",
     "shell.execute_reply": "2022-09-01T19:03:45.622257Z",
     "shell.execute_reply.started": "2022-09-01T18:49:51.289300Z"
    },
    "papermill": {
     "duration": 0.036631,
     "end_time": "2022-09-01T19:03:45.622457",
     "exception": false,
     "start_time": "2022-09-01T19:03:45.585826",
     "status": "completed"
    },
    "tags": []
   },
   "outputs": [
    {
     "name": "stdout",
     "output_type": "stream",
     "text": [
      "Categorical variables:\n",
      "['GENDER', 'LUNG_CANCER']\n"
     ]
    }
   ],
   "source": [
    "# Get list of categorical variables\n",
    "s = (data.dtypes == 'object')\n",
    "object_cols = list(s[s].index)\n",
    "\n",
    "print(\"Categorical variables:\")\n",
    "print(object_cols)"
   ]
  },
  {
   "cell_type": "markdown",
   "id": "a1ad3d77",
   "metadata": {
    "papermill": {
     "duration": 0.026181,
     "end_time": "2022-09-01T19:03:45.675772",
     "exception": false,
     "start_time": "2022-09-01T19:03:45.649591",
     "status": "completed"
    },
    "tags": []
   },
   "source": [
    "# Encode categorical variables\n",
    "\n",
    "Categorical variables can't be used in the model and will need to be encoded to numerical values. We will use a simple mapping function to encode gender and the label encoder to encode the target."
   ]
  },
  {
   "cell_type": "code",
   "execution_count": 44,
   "id": "bddb292f",
   "metadata": {
    "execution": {
     "iopub.execute_input": "2022-09-01T19:03:45.734818Z",
     "iopub.status.busy": "2022-09-01T19:03:45.733761Z",
     "iopub.status.idle": "2022-09-01T19:03:45.756076Z",
     "shell.execute_reply": "2022-09-01T19:03:45.755438Z",
     "shell.execute_reply.started": "2022-09-01T18:49:51.304658Z"
    },
    "papermill": {
     "duration": 0.05195,
     "end_time": "2022-09-01T19:03:45.756227",
     "exception": false,
     "start_time": "2022-09-01T19:03:45.704277",
     "status": "completed"
    },
    "tags": []
   },
   "outputs": [
    {
     "data": {
      "text/html": [
       "<div>\n",
       "<style scoped>\n",
       "    .dataframe tbody tr th:only-of-type {\n",
       "        vertical-align: middle;\n",
       "    }\n",
       "\n",
       "    .dataframe tbody tr th {\n",
       "        vertical-align: top;\n",
       "    }\n",
       "\n",
       "    .dataframe thead th {\n",
       "        text-align: right;\n",
       "    }\n",
       "</style>\n",
       "<table border=\"1\" class=\"dataframe\">\n",
       "  <thead>\n",
       "    <tr style=\"text-align: right;\">\n",
       "      <th></th>\n",
       "      <th>AGE</th>\n",
       "      <th>SMOKING</th>\n",
       "      <th>YELLOW_FINGERS</th>\n",
       "      <th>ANXIETY</th>\n",
       "      <th>PEER_PRESSURE</th>\n",
       "      <th>CHRONIC DISEASE</th>\n",
       "      <th>FATIGUE</th>\n",
       "      <th>ALLERGY</th>\n",
       "      <th>WHEEZING</th>\n",
       "      <th>ALCOHOL CONSUMING</th>\n",
       "      <th>COUGHING</th>\n",
       "      <th>SHORTNESS OF BREATH</th>\n",
       "      <th>SWALLOWING DIFFICULTY</th>\n",
       "      <th>CHEST PAIN</th>\n",
       "      <th>MALE</th>\n",
       "    </tr>\n",
       "  </thead>\n",
       "  <tbody>\n",
       "    <tr>\n",
       "      <th>0</th>\n",
       "      <td>69</td>\n",
       "      <td>1</td>\n",
       "      <td>2</td>\n",
       "      <td>2</td>\n",
       "      <td>1</td>\n",
       "      <td>1</td>\n",
       "      <td>2</td>\n",
       "      <td>1</td>\n",
       "      <td>2</td>\n",
       "      <td>2</td>\n",
       "      <td>2</td>\n",
       "      <td>2</td>\n",
       "      <td>2</td>\n",
       "      <td>2</td>\n",
       "      <td>1</td>\n",
       "    </tr>\n",
       "    <tr>\n",
       "      <th>1</th>\n",
       "      <td>74</td>\n",
       "      <td>2</td>\n",
       "      <td>1</td>\n",
       "      <td>1</td>\n",
       "      <td>1</td>\n",
       "      <td>2</td>\n",
       "      <td>2</td>\n",
       "      <td>2</td>\n",
       "      <td>1</td>\n",
       "      <td>1</td>\n",
       "      <td>1</td>\n",
       "      <td>2</td>\n",
       "      <td>2</td>\n",
       "      <td>2</td>\n",
       "      <td>1</td>\n",
       "    </tr>\n",
       "    <tr>\n",
       "      <th>2</th>\n",
       "      <td>59</td>\n",
       "      <td>1</td>\n",
       "      <td>1</td>\n",
       "      <td>1</td>\n",
       "      <td>2</td>\n",
       "      <td>1</td>\n",
       "      <td>2</td>\n",
       "      <td>1</td>\n",
       "      <td>2</td>\n",
       "      <td>1</td>\n",
       "      <td>2</td>\n",
       "      <td>2</td>\n",
       "      <td>1</td>\n",
       "      <td>2</td>\n",
       "      <td>0</td>\n",
       "    </tr>\n",
       "    <tr>\n",
       "      <th>3</th>\n",
       "      <td>63</td>\n",
       "      <td>2</td>\n",
       "      <td>2</td>\n",
       "      <td>2</td>\n",
       "      <td>1</td>\n",
       "      <td>1</td>\n",
       "      <td>1</td>\n",
       "      <td>1</td>\n",
       "      <td>1</td>\n",
       "      <td>2</td>\n",
       "      <td>1</td>\n",
       "      <td>1</td>\n",
       "      <td>2</td>\n",
       "      <td>2</td>\n",
       "      <td>1</td>\n",
       "    </tr>\n",
       "    <tr>\n",
       "      <th>4</th>\n",
       "      <td>63</td>\n",
       "      <td>1</td>\n",
       "      <td>2</td>\n",
       "      <td>1</td>\n",
       "      <td>1</td>\n",
       "      <td>1</td>\n",
       "      <td>1</td>\n",
       "      <td>1</td>\n",
       "      <td>2</td>\n",
       "      <td>1</td>\n",
       "      <td>2</td>\n",
       "      <td>2</td>\n",
       "      <td>1</td>\n",
       "      <td>1</td>\n",
       "      <td>0</td>\n",
       "    </tr>\n",
       "  </tbody>\n",
       "</table>\n",
       "</div>"
      ],
      "text/plain": [
       "   AGE  SMOKING  YELLOW_FINGERS  ANXIETY  PEER_PRESSURE  CHRONIC DISEASE  \\\n",
       "0   69        1               2        2              1                1   \n",
       "1   74        2               1        1              1                2   \n",
       "2   59        1               1        1              2                1   \n",
       "3   63        2               2        2              1                1   \n",
       "4   63        1               2        1              1                1   \n",
       "\n",
       "   FATIGUE   ALLERGY   WHEEZING  ALCOHOL CONSUMING  COUGHING  \\\n",
       "0         2         1         2                  2         2   \n",
       "1         2         2         1                  1         1   \n",
       "2         2         1         2                  1         2   \n",
       "3         1         1         1                  2         1   \n",
       "4         1         1         2                  1         2   \n",
       "\n",
       "   SHORTNESS OF BREATH  SWALLOWING DIFFICULTY  CHEST PAIN  MALE  \n",
       "0                    2                      2           2     1  \n",
       "1                    2                      2           2     1  \n",
       "2                    2                      1           2     0  \n",
       "3                    1                      2           2     1  \n",
       "4                    2                      1           1     0  "
      ]
     },
     "execution_count": 44,
     "metadata": {},
     "output_type": "execute_result"
    }
   ],
   "source": [
    "X['MALE'] = X['GENDER'].map({'M':1, 'F':0})\n",
    "X_final = X.drop(columns='GENDER')\n",
    "X_final.head()"
   ]
  },
  {
   "cell_type": "code",
   "execution_count": 45,
   "id": "ea95ce3e",
   "metadata": {
    "execution": {
     "iopub.execute_input": "2022-09-01T19:03:45.824568Z",
     "iopub.status.busy": "2022-09-01T19:03:45.818194Z",
     "iopub.status.idle": "2022-09-01T19:03:45.828225Z",
     "shell.execute_reply": "2022-09-01T19:03:45.828777Z",
     "shell.execute_reply.started": "2022-09-01T18:49:51.327541Z"
    },
    "papermill": {
     "duration": 0.042587,
     "end_time": "2022-09-01T19:03:45.829019",
     "exception": false,
     "start_time": "2022-09-01T19:03:45.786432",
     "status": "completed"
    },
    "tags": []
   },
   "outputs": [
    {
     "data": {
      "text/html": [
       "<div>\n",
       "<style scoped>\n",
       "    .dataframe tbody tr th:only-of-type {\n",
       "        vertical-align: middle;\n",
       "    }\n",
       "\n",
       "    .dataframe tbody tr th {\n",
       "        vertical-align: top;\n",
       "    }\n",
       "\n",
       "    .dataframe thead th {\n",
       "        text-align: right;\n",
       "    }\n",
       "</style>\n",
       "<table border=\"1\" class=\"dataframe\">\n",
       "  <thead>\n",
       "    <tr style=\"text-align: right;\">\n",
       "      <th></th>\n",
       "      <th>0</th>\n",
       "    </tr>\n",
       "  </thead>\n",
       "  <tbody>\n",
       "    <tr>\n",
       "      <th>0</th>\n",
       "      <td>1</td>\n",
       "    </tr>\n",
       "    <tr>\n",
       "      <th>1</th>\n",
       "      <td>1</td>\n",
       "    </tr>\n",
       "    <tr>\n",
       "      <th>2</th>\n",
       "      <td>0</td>\n",
       "    </tr>\n",
       "    <tr>\n",
       "      <th>3</th>\n",
       "      <td>0</td>\n",
       "    </tr>\n",
       "    <tr>\n",
       "      <th>4</th>\n",
       "      <td>0</td>\n",
       "    </tr>\n",
       "  </tbody>\n",
       "</table>\n",
       "</div>"
      ],
      "text/plain": [
       "   0\n",
       "0  1\n",
       "1  1\n",
       "2  0\n",
       "3  0\n",
       "4  0"
      ]
     },
     "execution_count": 45,
     "metadata": {},
     "output_type": "execute_result"
    }
   ],
   "source": [
    "from sklearn.preprocessing import LabelEncoder\n",
    "LE = LabelEncoder()\n",
    "LE = LE.fit(y)\n",
    "encoded_y = LE.transform(y)\n",
    "y_final = pd.DataFrame(encoded_y)\n",
    "y_final.head()"
   ]
  },
  {
   "cell_type": "markdown",
   "id": "9878a0e0",
   "metadata": {
    "papermill": {
     "duration": 0.028473,
     "end_time": "2022-09-01T19:03:45.885114",
     "exception": false,
     "start_time": "2022-09-01T19:03:45.856641",
     "status": "completed"
    },
    "tags": []
   },
   "source": [
    "# Fit XGBOOST model"
   ]
  },
  {
   "cell_type": "code",
   "execution_count": 46,
   "id": "6cf9d726",
   "metadata": {
    "execution": {
     "iopub.execute_input": "2022-09-01T19:03:45.948760Z",
     "iopub.status.busy": "2022-09-01T19:03:45.947894Z",
     "iopub.status.idle": "2022-09-01T19:03:46.236977Z",
     "shell.execute_reply": "2022-09-01T19:03:46.236262Z",
     "shell.execute_reply.started": "2022-09-01T18:49:51.343703Z"
    },
    "papermill": {
     "duration": 0.32454,
     "end_time": "2022-09-01T19:03:46.237134",
     "exception": false,
     "start_time": "2022-09-01T19:03:45.912594",
     "status": "completed"
    },
    "tags": []
   },
   "outputs": [
    {
     "data": {
      "text/plain": [
       "XGBRegressor(base_score=0.5, booster='gbtree', colsample_bylevel=1,\n",
       "             colsample_bynode=1, colsample_bytree=1, gamma=0, gpu_id=-1,\n",
       "             importance_type='gain', interaction_constraints='',\n",
       "             learning_rate=0.300000012, max_delta_step=0, max_depth=6,\n",
       "             min_child_weight=1, missing=nan, monotone_constraints='()',\n",
       "             n_estimators=100, n_jobs=24, num_parallel_tree=1, random_state=0,\n",
       "             reg_alpha=0, reg_lambda=1, scale_pos_weight=1, subsample=1,\n",
       "             tree_method='exact', validate_parameters=1, verbosity=None)"
      ]
     },
     "execution_count": 46,
     "metadata": {},
     "output_type": "execute_result"
    }
   ],
   "source": [
    "X_train, X_valid, y_train, y_valid = train_test_split(X_final, y_final)\n",
    "model = XGBRegressor()\n",
    "model.fit(X_train, y_train)"
   ]
  },
  {
   "cell_type": "markdown",
   "id": "4d0dd1e2",
   "metadata": {
    "papermill": {
     "duration": 0.027499,
     "end_time": "2022-09-01T19:03:46.293241",
     "exception": false,
     "start_time": "2022-09-01T19:03:46.265742",
     "status": "completed"
    },
    "tags": []
   },
   "source": [
    "# Evaluate"
   ]
  },
  {
   "cell_type": "code",
   "execution_count": 47,
   "id": "190f8111",
   "metadata": {
    "execution": {
     "iopub.execute_input": "2022-09-01T19:03:46.356114Z",
     "iopub.status.busy": "2022-09-01T19:03:46.355058Z",
     "iopub.status.idle": "2022-09-01T19:03:46.368565Z",
     "shell.execute_reply": "2022-09-01T19:03:46.369114Z",
     "shell.execute_reply.started": "2022-09-01T18:49:51.535768Z"
    },
    "papermill": {
     "duration": 0.048095,
     "end_time": "2022-09-01T19:03:46.369323",
     "exception": false,
     "start_time": "2022-09-01T19:03:46.321228",
     "status": "completed"
    },
    "tags": []
   },
   "outputs": [
    {
     "name": "stdout",
     "output_type": "stream",
     "text": [
      "Mean Absolute Error: 0.0951563882199713\n"
     ]
    }
   ],
   "source": [
    "from sklearn.metrics import mean_absolute_error\n",
    "\n",
    "predictions = model.predict(X_valid)\n",
    "print(\"Mean Absolute Error: \" + str(mean_absolute_error(predictions, y_valid)))"
   ]
  },
  {
   "cell_type": "markdown",
   "id": "5f641242",
   "metadata": {
    "papermill": {
     "duration": 0.028,
     "end_time": "2022-09-01T19:03:46.427705",
     "exception": false,
     "start_time": "2022-09-01T19:03:46.399705",
     "status": "completed"
    },
    "tags": []
   },
   "source": [
    "# Discussion\n",
    "\n",
    "That's a pretty good result for just a default XGBoost model with no tweaking, which I believe to be the result of bias in the data.\n",
    "The data in the features will reflect the status of diagnosis, of course people with lung cancer will have a disease phenotype, and people without will not, which the model can easily detect. \n",
    "\n",
    "A better database would have the features assessed for everyone at one time point, and then follow up years later with the diagnosis of lung cancer or not. This data would better serve to create a predictive model of lung cancer risk within a set time period. \n",
    "\n",
    "Alas, let's take a look at the relationship between features with and without lung cancer diagnosis"
   ]
  },
  {
   "cell_type": "code",
   "execution_count": 48,
   "id": "8b9cd59a",
   "metadata": {
    "execution": {
     "iopub.execute_input": "2022-09-01T19:03:46.490819Z",
     "iopub.status.busy": "2022-09-01T19:03:46.489898Z",
     "iopub.status.idle": "2022-09-01T19:03:46.685691Z",
     "shell.execute_reply": "2022-09-01T19:03:46.685072Z",
     "shell.execute_reply.started": "2022-09-01T18:49:51.548818Z"
    },
    "papermill": {
     "duration": 0.22984,
     "end_time": "2022-09-01T19:03:46.685871",
     "exception": false,
     "start_time": "2022-09-01T19:03:46.456031",
     "status": "completed"
    },
    "tags": []
   },
   "outputs": [],
   "source": [
    "from sklearn.feature_selection import mutual_info_regression\n",
    "\n",
    "X_MI = X_final.copy()\n",
    "y_MI = y_final.copy()\n",
    "\n",
    "# Label encoding for categoricals\n",
    "for colname in X_MI.select_dtypes(\"object\"):\n",
    "    X_MI[colname], _ = X_MI[colname].factorize()\n",
    "\n",
    "\n",
    "discrete_features = X_MI.dtypes == int"
   ]
  },
  {
   "cell_type": "code",
   "execution_count": 49,
   "id": "14f8c5bf",
   "metadata": {
    "execution": {
     "iopub.execute_input": "2022-09-01T19:03:46.753189Z",
     "iopub.status.busy": "2022-09-01T19:03:46.752435Z",
     "iopub.status.idle": "2022-09-01T19:03:46.852094Z",
     "shell.execute_reply": "2022-09-01T19:03:46.851520Z",
     "shell.execute_reply.started": "2022-09-01T18:49:51.588524Z"
    },
    "papermill": {
     "duration": 0.137891,
     "end_time": "2022-09-01T19:03:46.852263",
     "exception": false,
     "start_time": "2022-09-01T19:03:46.714372",
     "status": "completed"
    },
    "tags": []
   },
   "outputs": [
    {
     "data": {
      "text/plain": [
       "SHORTNESS OF BREATH      0.078313\n",
       "ALCOHOL CONSUMING        0.069445\n",
       "ANXIETY                  0.053004\n",
       "ALLERGY                  0.026324\n",
       "CHEST PAIN               0.016687\n",
       "SMOKING                  0.014442\n",
       "SWALLOWING DIFFICULTY    0.003142\n",
       "WHEEZING                 0.001910\n",
       "AGE                      0.000000\n",
       "YELLOW_FINGERS           0.000000\n",
       "PEER_PRESSURE            0.000000\n",
       "CHRONIC DISEASE          0.000000\n",
       "FATIGUE                  0.000000\n",
       "COUGHING                 0.000000\n",
       "MALE                     0.000000\n",
       "Name: MI Scores, dtype: float64"
      ]
     },
     "execution_count": 49,
     "metadata": {},
     "output_type": "execute_result"
    }
   ],
   "source": [
    "def make_mi_scores(X, y, discrete_features):\n",
    "    mi_scores = mutual_info_regression(X, y, discrete_features=discrete_features)\n",
    "    mi_scores = pd.Series(mi_scores, name=\"MI Scores\", index=X.columns)\n",
    "    mi_scores = mi_scores.sort_values(ascending=False)\n",
    "    return mi_scores\n",
    "\n",
    "mi_scores = make_mi_scores(X_MI, y_MI.values.ravel(), discrete_features)\n",
    "mi_scores  "
   ]
  },
  {
   "cell_type": "code",
   "execution_count": 50,
   "id": "17fc8f65",
   "metadata": {
    "execution": {
     "iopub.execute_input": "2022-09-01T19:03:46.922592Z",
     "iopub.status.busy": "2022-09-01T19:03:46.921869Z",
     "iopub.status.idle": "2022-09-01T19:03:47.275733Z",
     "shell.execute_reply": "2022-09-01T19:03:47.276263Z",
     "shell.execute_reply.started": "2022-09-01T18:49:51.663175Z"
    },
    "papermill": {
     "duration": 0.394758,
     "end_time": "2022-09-01T19:03:47.276438",
     "exception": false,
     "start_time": "2022-09-01T19:03:46.881680",
     "status": "completed"
    },
    "tags": []
   },
   "outputs": [
    {
     "data": {
      "image/png": "[encoded data removed]",
      "text/plain": [
       "<Figure size 800x500 with 1 Axes>"
      ]
     },
     "metadata": {
      "needs_background": "light"
     },
     "output_type": "display_data"
    }
   ],
   "source": [
    "import matplotlib.pyplot as plt\n",
    "\n",
    "def plot_mi_scores(scores):\n",
    "    scores = scores.sort_values(ascending=True)\n",
    "    width = np.arange(len(scores))\n",
    "    ticks = list(scores.index)\n",
    "    plt.barh(width, scores)\n",
    "    plt.yticks(width, ticks)\n",
    "    plt.title(\"Mutual Information Scores\")\n",
    "\n",
    "\n",
    "plt.figure(dpi=100, figsize=(8, 5))\n",
    "plot_mi_scores(mi_scores)"
   ]
  },
  {
   "cell_type": "markdown",
   "id": "8c889fd0",
   "metadata": {
    "papermill": {
     "duration": 0.031426,
     "end_time": "2022-09-01T19:03:47.338576",
     "exception": false,
     "start_time": "2022-09-01T19:03:47.307150",
     "status": "completed"
    },
    "tags": []
   },
   "source": [
    "Mutual Information scores measure the relationship or co-occurence a feature has to one another. The higher the score, the more one outcome affects the other. Interestingly in comparison with Lung Cancer diagnosis, 'age' seems to be the only feature with a MI score above 0.1, and smoking doesn't seem to have any mutual information with the target. Let's take a closer look at the distribution of data."
   ]
  },
  {
   "cell_type": "markdown",
   "id": "6c7e340e",
   "metadata": {
    "papermill": {
     "duration": 0.03147,
     "end_time": "2022-09-01T19:03:47.401769",
     "exception": false,
     "start_time": "2022-09-01T19:03:47.370299",
     "status": "completed"
    },
    "tags": []
   },
   "source": [
    "# Visualization\n",
    "\n",
    "\n",
    "Let's use matplotlib and seaborn to do some visualizations of our data.\n",
    "\n",
    "First, we'll do some data cleaning and then take a look at the distribution of data amongst different features to see if it's balanced."
   ]
  },
  {
   "cell_type": "markdown",
   "id": "9ebe6316",
   "metadata": {
    "papermill": {
     "duration": 0.030108,
     "end_time": "2022-09-01T19:03:47.462255",
     "exception": false,
     "start_time": "2022-09-01T19:03:47.432147",
     "status": "completed"
    },
    "tags": []
   },
   "source": [
    "Below I am just cleaning up the master data frame to encode Lung Cancer status as a binary classification of yes=1 and no=0, as well as a similar strategy for gender, male=1 and female=0. This way, we can add up totals for analysis. Please note that for all other categories, yes=2 and no=1. we will have to keep this in mind when adding totals."
   ]
  },
  {
   "cell_type": "code",
   "execution_count": 51,
   "id": "c37be4a0",
   "metadata": {
    "execution": {
     "iopub.execute_input": "2022-09-01T19:03:47.546060Z",
     "iopub.status.busy": "2022-09-01T19:03:47.532209Z",
     "iopub.status.idle": "2022-09-01T19:03:47.550545Z",
     "shell.execute_reply": "2022-09-01T19:03:47.551214Z",
     "shell.execute_reply.started": "2022-09-01T18:49:51.903411Z"
    },
    "papermill": {
     "duration": 0.058559,
     "end_time": "2022-09-01T19:03:47.551392",
     "exception": false,
     "start_time": "2022-09-01T19:03:47.492833",
     "status": "completed"
    },
    "tags": []
   },
   "outputs": [
    {
     "data": {
      "text/html": [
       "<div>\n",
       "<style scoped>\n",
       "    .dataframe tbody tr th:only-of-type {\n",
       "        vertical-align: middle;\n",
       "    }\n",
       "\n",
       "    .dataframe tbody tr th {\n",
       "        vertical-align: top;\n",
       "    }\n",
       "\n",
       "    .dataframe thead th {\n",
       "        text-align: right;\n",
       "    }\n",
       "</style>\n",
       "<table border=\"1\" class=\"dataframe\">\n",
       "  <thead>\n",
       "    <tr style=\"text-align: right;\">\n",
       "      <th></th>\n",
       "      <th>AGE</th>\n",
       "      <th>SMOKING</th>\n",
       "      <th>YELLOW_FINGERS</th>\n",
       "      <th>ANXIETY</th>\n",
       "      <th>PEER_PRESSURE</th>\n",
       "      <th>CHRONIC DISEASE</th>\n",
       "      <th>FATIGUE</th>\n",
       "      <th>ALLERGY</th>\n",
       "      <th>WHEEZING</th>\n",
       "      <th>ALCOHOL CONSUMING</th>\n",
       "      <th>COUGHING</th>\n",
       "      <th>SHORTNESS OF BREATH</th>\n",
       "      <th>SWALLOWING DIFFICULTY</th>\n",
       "      <th>CHEST PAIN</th>\n",
       "      <th>LUNG_CANCER</th>\n",
       "      <th>MALE</th>\n",
       "    </tr>\n",
       "  </thead>\n",
       "  <tbody>\n",
       "    <tr>\n",
       "      <th>0</th>\n",
       "      <td>69</td>\n",
       "      <td>1</td>\n",
       "      <td>2</td>\n",
       "      <td>2</td>\n",
       "      <td>1</td>\n",
       "      <td>1</td>\n",
       "      <td>2</td>\n",
       "      <td>1</td>\n",
       "      <td>2</td>\n",
       "      <td>2</td>\n",
       "      <td>2</td>\n",
       "      <td>2</td>\n",
       "      <td>2</td>\n",
       "      <td>2</td>\n",
       "      <td>1</td>\n",
       "      <td>1</td>\n",
       "    </tr>\n",
       "    <tr>\n",
       "      <th>1</th>\n",
       "      <td>74</td>\n",
       "      <td>2</td>\n",
       "      <td>1</td>\n",
       "      <td>1</td>\n",
       "      <td>1</td>\n",
       "      <td>2</td>\n",
       "      <td>2</td>\n",
       "      <td>2</td>\n",
       "      <td>1</td>\n",
       "      <td>1</td>\n",
       "      <td>1</td>\n",
       "      <td>2</td>\n",
       "      <td>2</td>\n",
       "      <td>2</td>\n",
       "      <td>1</td>\n",
       "      <td>1</td>\n",
       "    </tr>\n",
       "    <tr>\n",
       "      <th>2</th>\n",
       "      <td>59</td>\n",
       "      <td>1</td>\n",
       "      <td>1</td>\n",
       "      <td>1</td>\n",
       "      <td>2</td>\n",
       "      <td>1</td>\n",
       "      <td>2</td>\n",
       "      <td>1</td>\n",
       "      <td>2</td>\n",
       "      <td>1</td>\n",
       "      <td>2</td>\n",
       "      <td>2</td>\n",
       "      <td>1</td>\n",
       "      <td>2</td>\n",
       "      <td>0</td>\n",
       "      <td>0</td>\n",
       "    </tr>\n",
       "    <tr>\n",
       "      <th>3</th>\n",
       "      <td>63</td>\n",
       "      <td>2</td>\n",
       "      <td>2</td>\n",
       "      <td>2</td>\n",
       "      <td>1</td>\n",
       "      <td>1</td>\n",
       "      <td>1</td>\n",
       "      <td>1</td>\n",
       "      <td>1</td>\n",
       "      <td>2</td>\n",
       "      <td>1</td>\n",
       "      <td>1</td>\n",
       "      <td>2</td>\n",
       "      <td>2</td>\n",
       "      <td>0</td>\n",
       "      <td>1</td>\n",
       "    </tr>\n",
       "    <tr>\n",
       "      <th>4</th>\n",
       "      <td>63</td>\n",
       "      <td>1</td>\n",
       "      <td>2</td>\n",
       "      <td>1</td>\n",
       "      <td>1</td>\n",
       "      <td>1</td>\n",
       "      <td>1</td>\n",
       "      <td>1</td>\n",
       "      <td>2</td>\n",
       "      <td>1</td>\n",
       "      <td>2</td>\n",
       "      <td>2</td>\n",
       "      <td>1</td>\n",
       "      <td>1</td>\n",
       "      <td>0</td>\n",
       "      <td>0</td>\n",
       "    </tr>\n",
       "  </tbody>\n",
       "</table>\n",
       "</div>"
      ],
      "text/plain": [
       "   AGE  SMOKING  YELLOW_FINGERS  ANXIETY  PEER_PRESSURE  CHRONIC DISEASE  \\\n",
       "0   69        1               2        2              1                1   \n",
       "1   74        2               1        1              1                2   \n",
       "2   59        1               1        1              2                1   \n",
       "3   63        2               2        2              1                1   \n",
       "4   63        1               2        1              1                1   \n",
       "\n",
       "   FATIGUE   ALLERGY   WHEEZING  ALCOHOL CONSUMING  COUGHING  \\\n",
       "0         2         1         2                  2         2   \n",
       "1         2         2         1                  1         1   \n",
       "2         2         1         2                  1         2   \n",
       "3         1         1         1                  2         1   \n",
       "4         1         1         2                  1         2   \n",
       "\n",
       "   SHORTNESS OF BREATH  SWALLOWING DIFFICULTY  CHEST PAIN  LUNG_CANCER  MALE  \n",
       "0                    2                      2           2            1     1  \n",
       "1                    2                      2           2            1     1  \n",
       "2                    2                      1           2            0     0  \n",
       "3                    1                      2           2            0     1  \n",
       "4                    2                      1           1            0     0  "
      ]
     },
     "execution_count": 51,
     "metadata": {},
     "output_type": "execute_result"
    }
   ],
   "source": [
    "data['LUNG_CANCER'] = data['LUNG_CANCER'].map({'YES':1, 'NO':0})\n",
    "data['MALE'] = data['GENDER'].map({'M':1, 'F':0})\n",
    "data = data.drop(columns='GENDER')\n",
    "data.head()"
   ]
  },
  {
   "cell_type": "markdown",
   "id": "3ed4edd8",
   "metadata": {
    "papermill": {
     "duration": 0.040857,
     "end_time": "2022-09-01T19:03:47.623714",
     "exception": false,
     "start_time": "2022-09-01T19:03:47.582857",
     "status": "completed"
    },
    "tags": []
   },
   "source": [
    "Now, lets take a look at the balance between male and female entries in the table. Ideally, we would want to have a balanced distribution."
   ]
  },
  {
   "cell_type": "code",
   "execution_count": 52,
   "id": "2595b080",
   "metadata": {
    "execution": {
     "iopub.execute_input": "2022-09-01T19:03:47.708541Z",
     "iopub.status.busy": "2022-09-01T19:03:47.707526Z",
     "iopub.status.idle": "2022-09-01T19:03:47.975809Z",
     "shell.execute_reply": "2022-09-01T19:03:47.977252Z",
     "shell.execute_reply.started": "2022-09-01T18:49:51.921407Z"
    },
    "papermill": {
     "duration": 0.310095,
     "end_time": "2022-09-01T19:03:47.977610",
     "exception": false,
     "start_time": "2022-09-01T19:03:47.667515",
     "status": "completed"
    },
    "tags": []
   },
   "outputs": [
    {
     "data": {
      "image/png": "[encoded data removed]",
      "text/plain": [
       "<Figure size 432x288 with 1 Axes>"
      ]
     },
     "metadata": {},
     "output_type": "display_data"
    }
   ],
   "source": [
    "import seaborn as sns\n",
    "\n",
    "total_male = data[\"MALE\"].sum()\n",
    "percent_male = total_male/len(data.index)\n",
    "total_female = len(data.index)-total_male\n",
    "percent_female = total_female/len(data.index)\n",
    "\n",
    "#define data for pie chart\n",
    "gender_percent = [percent_male,percent_female]\n",
    "labels = ['Male', 'Female']\n",
    "\n",
    "#define color palette\n",
    "colors = sns.color_palette('pastel')[0:5]\n",
    "\n",
    "#create pie chart\n",
    "plt.pie(gender_percent, labels=labels, colors=colors, autopct='%.0f%%')\n",
    "plt.show()"
   ]
  },
  {
   "cell_type": "markdown",
   "id": "390ca826",
   "metadata": {
    "papermill": {
     "duration": 0.034029,
     "end_time": "2022-09-01T19:03:48.093872",
     "exception": false,
     "start_time": "2022-09-01T19:03:48.059843",
     "status": "completed"
    },
    "tags": []
   },
   "source": [
    "Good, it looks like our data represents both Male and Female genders fairly evenly. Let's do the same but for Lung Cancer diagnosis."
   ]
  },
  {
   "cell_type": "code",
   "execution_count": 53,
   "id": "7864dd77",
   "metadata": {
    "execution": {
     "iopub.execute_input": "2022-09-01T19:03:48.162734Z",
     "iopub.status.busy": "2022-09-01T19:03:48.161918Z",
     "iopub.status.idle": "2022-09-01T19:03:48.267972Z",
     "shell.execute_reply": "2022-09-01T19:03:48.269216Z",
     "shell.execute_reply.started": "2022-09-01T18:49:52.053082Z"
    },
    "papermill": {
     "duration": 0.142832,
     "end_time": "2022-09-01T19:03:48.269574",
     "exception": false,
     "start_time": "2022-09-01T19:03:48.126742",
     "status": "completed"
    },
    "tags": []
   },
   "outputs": [
    {
     "data": {
      "image/png": "[encoded data removed]",
      "text/plain": [
       "<Figure size 432x288 with 1 Axes>"
      ]
     },
     "metadata": {},
     "output_type": "display_data"
    }
   ],
   "source": [
    "total_cancer = data[\"LUNG_CANCER\"].sum()\n",
    "percent_cancer = total_cancer/len(data.index)\n",
    "total_nocancer = len(data.index)-total_cancer\n",
    "percent_nocancer = total_nocancer/len(data.index)\n",
    "\n",
    "#define data for pie chart\n",
    "cancer_percent = [percent_cancer,percent_nocancer]\n",
    "labels = ['Lung Cancer', 'No Cancer']\n",
    "\n",
    "#define color palette\n",
    "colors = sns.color_palette('pastel')[0:5]\n",
    "\n",
    "#create pie chart\n",
    "plt.pie(cancer_percent, labels=labels, colors=colors, autopct='%.0f%%')\n",
    "plt.show()"
   ]
  },
  {
   "cell_type": "markdown",
   "id": "ec7fd819",
   "metadata": {
    "papermill": {
     "duration": 0.033679,
     "end_time": "2022-09-01T19:03:48.384155",
     "exception": false,
     "start_time": "2022-09-01T19:03:48.350476",
     "status": "completed"
    },
    "tags": []
   },
   "source": [
    "Unfortunately our data looks like it's heavily skewed towards patients with a Lung Cancer diagnosis. This may have created some bias with our machine learning model, having it trained on unbalanced data may push it towards estimating a lung cancer diagnosis rather than not."
   ]
  },
  {
   "cell_type": "markdown",
   "id": "d70e063b",
   "metadata": {
    "papermill": {
     "duration": 0.032944,
     "end_time": "2022-09-01T19:03:48.453087",
     "exception": false,
     "start_time": "2022-09-01T19:03:48.420143",
     "status": "completed"
    },
    "tags": []
   },
   "source": [
    "Next, we'll take a look at the distribution of age amongst groups with and without Lung Cancer diagnosis.\n",
    "\n",
    "First, I'll divide the dataframe into two groups, one group that has a positive lung cancer diagnosis, and a second group that has a negative lung cancer diagnosis. Then, I'll plot the distribution of age for each group overlayed on top of each other to have a look into the difference in age distribution between the two groups."
   ]
  },
  {
   "cell_type": "code",
   "execution_count": 54,
   "id": "e0cc508e",
   "metadata": {
    "execution": {
     "iopub.execute_input": "2022-09-01T19:03:48.524822Z",
     "iopub.status.busy": "2022-09-01T19:03:48.523963Z",
     "iopub.status.idle": "2022-09-01T19:03:48.822040Z",
     "shell.execute_reply": "2022-09-01T19:03:48.822578Z",
     "shell.execute_reply.started": "2022-09-01T18:49:52.153448Z"
    },
    "papermill": {
     "duration": 0.335512,
     "end_time": "2022-09-01T19:03:48.822788",
     "exception": false,
     "start_time": "2022-09-01T19:03:48.487276",
     "status": "completed"
    },
    "tags": []
   },
   "outputs": [
    {
     "name": "stdout",
     "output_type": "stream",
     "text": [
      "Patients with Lung Cancer mean age 62.95185185185185\n",
      "Patients without Lung Cancer mean age 60.743589743589745\n"
     ]
    },
    {
     "data": {
      "image/png": "[encoded data removed]",
      "text/plain": [
       "<Figure size 432x288 with 1 Axes>"
      ]
     },
     "metadata": {
      "needs_background": "light"
     },
     "output_type": "display_data"
    }
   ],
   "source": [
    "data_cancer = data[data['LUNG_CANCER']==1]\n",
    "data_no_cancer = data[data['LUNG_CANCER']==0]\n",
    "\n",
    "sns.kdeplot(data=data_cancer['AGE'], shade=True, label='Lung Cancer')\n",
    "sns.kdeplot(data=data_no_cancer['AGE'], shade=True, label ='No Cancer')\n",
    "plt.legend()\n",
    "plt.title('Distribution of patient age with and without Lung Cancer')\n",
    "\n",
    "print(\"Patients with Lung Cancer mean age\", data_cancer['AGE'].mean())\n",
    "print('Patients without Lung Cancer mean age', data_no_cancer['AGE'].mean())"
   ]
  },
  {
   "cell_type": "markdown",
   "id": "fac1fa18",
   "metadata": {
    "papermill": {
     "duration": 0.035421,
     "end_time": "2022-09-01T19:03:48.893183",
     "exception": false,
     "start_time": "2022-09-01T19:03:48.857762",
     "status": "completed"
    },
    "tags": []
   },
   "source": [
    "It looks like patients with lung cancer are slightly skewed to be older based off assumptions made looking at the graph and comparing the means between the two groups."
   ]
  },
  {
   "cell_type": "code",
   "execution_count": 55,
   "id": "986d0664",
   "metadata": {
    "execution": {
     "iopub.execute_input": "2022-09-01T19:03:48.970327Z",
     "iopub.status.busy": "2022-09-01T19:03:48.969508Z",
     "iopub.status.idle": "2022-09-01T19:03:49.187524Z",
     "shell.execute_reply": "2022-09-01T19:03:49.188124Z",
     "shell.execute_reply.started": "2022-09-01T18:49:52.359626Z"
    },
    "papermill": {
     "duration": 0.258332,
     "end_time": "2022-09-01T19:03:49.188328",
     "exception": false,
     "start_time": "2022-09-01T19:03:48.929996",
     "status": "completed"
    },
    "tags": []
   },
   "outputs": [
    {
     "name": "stdout",
     "output_type": "stream",
     "text": [
      "Patients without Lung Cancer mean age 60.743589743589745\n",
      "Patients with Lung Cancer mean age 62.95185185185185\n"
     ]
    },
    {
     "data": {
      "image/png": "[encoded data removed]",
      "text/plain": [
       "<Figure size 432x288 with 1 Axes>"
      ]
     },
     "metadata": {
      "needs_background": "light"
     },
     "output_type": "display_data"
    }
   ],
   "source": [
    "sns.boxplot(data=data, x='LUNG_CANCER', y=\"AGE\", order = [0, 1])\n",
    "print('Patients without Lung Cancer mean age', data_no_cancer['AGE'].mean())\n",
    "print(\"Patients with Lung Cancer mean age\", data_cancer['AGE'].mean())"
   ]
  },
  {
   "cell_type": "code",
   "execution_count": 56,
   "id": "08238b5e",
   "metadata": {
    "execution": {
     "iopub.execute_input": "2022-09-01T19:03:49.262961Z",
     "iopub.status.busy": "2022-09-01T19:03:49.261934Z",
     "iopub.status.idle": "2022-09-01T19:03:49.696564Z",
     "shell.execute_reply": "2022-09-01T19:03:49.697114Z",
     "shell.execute_reply.started": "2022-09-01T18:49:52.507340Z"
    },
    "papermill": {
     "duration": 0.473925,
     "end_time": "2022-09-01T19:03:49.697313",
     "exception": false,
     "start_time": "2022-09-01T19:03:49.223388",
     "status": "completed"
    },
    "tags": []
   },
   "outputs": [
    {
     "data": {
      "text/plain": [
       "<AxesSubplot:xlabel='LUNG_CANCER', ylabel='AGE'>"
      ]
     },
     "execution_count": 56,
     "metadata": {},
     "output_type": "execute_result"
    },
    {
     "data": {
      "image/png": "[encoded data removed]",
      "text/plain": [
       "<Figure size 432x288 with 1 Axes>"
      ]
     },
     "metadata": {
      "needs_background": "light"
     },
     "output_type": "display_data"
    }
   ],
   "source": [
    "sns.swarmplot(data=data, x='LUNG_CANCER', y=\"AGE\", order = [0, 1])"
   ]
  },
  {
   "cell_type": "markdown",
   "id": "99c18aa3",
   "metadata": {
    "papermill": {
     "duration": 0.037542,
     "end_time": "2022-09-01T19:03:49.773742",
     "exception": false,
     "start_time": "2022-09-01T19:03:49.736200",
     "status": "completed"
    },
    "tags": []
   },
   "source": [
    "A boxplot and a swarmplot of the distribution of age between negative and positive lung cancer diagnosis support the same sentiment, that in our data, patients that are diagnosed with Lung Cancer are on average older than those that are not diagnosed. Whether this is difference is statistically different or not, further analysis is required with a standard T-test."
   ]
  }
 ],
 "metadata": {
  "kernelspec": {
   "display_name": "Python 3",
   "language": "python",
   "name": "python3"
  },
  "language_info": {
   "codemirror_mode": {
    "name": "ipython",
    "version": 3
   },
   "file_extension": ".py",
   "mimetype": "text/x-python",
   "name": "python",
   "nbconvert_exporter": "python",
   "pygments_lexer": "ipython3",
   "version": "3.8.8"
  },
  "papermill": {
   "default_parameters": {},
   "duration": 17.845413,
   "end_time": "2022-09-01T19:03:50.623556",
   "environment_variables": {},
   "exception": null,
   "input_path": "__notebook__.ipynb",
   "output_path": "__notebook__.ipynb",
   "parameters": {},
   "start_time": "2022-09-01T19:03:32.778143",
   "version": "2.3.3"
  }
 },
 "nbformat": 4,
 "nbformat_minor": 5
}
